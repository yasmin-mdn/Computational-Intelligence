{
  "cells": [
    {
      "cell_type": "markdown",
      "metadata": {
        "id": "_WTDKK7QEwzB"
      },
      "source": [
        "# Your info\n",
        "\n",
        "Full name:Yasmin Madani\n",
        "\n",
        "Student ID:97532265"
      ]
    },
    {
      "cell_type": "markdown",
      "metadata": {
        "id": "bj_gl580E_0e"
      },
      "source": [
        "# Q2"
      ]
    },
    {
      "cell_type": "markdown",
      "source": [
        "**Imports**"
      ],
      "metadata": {
        "id": "jXoIFn_13MTp"
      }
    },
    {
      "cell_type": "code",
      "execution_count": 71,
      "metadata": {
        "id": "G3xU6WFfEz9n"
      },
      "outputs": [],
      "source": [
        "# Q2_graded\n",
        "# Do not change the above line.\n",
        "# -*- coding: utf-8 -*-\n",
        "import numpy as np\n",
        "import random\n",
        "import matplotlib.pyplot as plt\n",
        "from keras.datasets import fashion_mnist\n",
        "from skimage.util import random_noise\n",
        "from skimage.transform import resize"
      ]
    },
    {
      "cell_type": "code",
      "source": [
        "def Acc(train_imgs,preds,net):\n",
        "  idx = 0\n",
        "  avg_acc = 0\n",
        "  for pre , org in zip(preds, train_imgs):\n",
        "    img_vec = net.mat2vec(org)\n",
        "    same_pixels = np.sum(img_vec == pre)\n",
        "    avg_acc += (same_pixels / (net.Neuron_Num ) )\n",
        "    print(f'image {idx+1} accuracy : {same_pixels / net.Neuron_Num  }')\n",
        "    idx += 1\n",
        "  print(f'total accuracy : {avg_acc/10 }')"
      ],
      "metadata": {
        "id": "zqNd-YxX3xzh"
      },
      "execution_count": 72,
      "outputs": []
    },
    {
      "cell_type": "markdown",
      "source": [
        "**NET WORK CLASS**"
      ],
      "metadata": {
        "id": "I6h1RgI73l2u"
      }
    },
    {
      "cell_type": "code",
      "source": [
        "# Q2_graded\n",
        "class hopfield:\n",
        "    def __init__(self,train_files, in_shape): \n",
        "        self.Neuron_Num = in_shape[0] * in_shape[1]\n",
        "        self.Weghits = np.zeros((self.Neuron_Num , self.Neuron_Num))\n",
        "\n",
        "    def mat2vec(self,img):\n",
        "      img = np.divide(img, 256)\n",
        "      img_mean = np.mean(img)\n",
        "      img = np.where(img < img_mean, -1, 1)\n",
        "      img = img.flatten()\n",
        "      return img\n",
        "\n",
        "    def creat_w_matrix(self,train_files):\n",
        "          #read image and convert it to Numpy array\n",
        "          print(\"Importing images and creating weight matrix....\")\n",
        "          for img in train_files:\n",
        "            img = self.mat2vec(img)\n",
        "            for i in range(self.Neuron_Num):\n",
        "              for j in range(i, self.Neuron_Num):\n",
        "                if i != j:\n",
        "                    w_ij = img[i] * img[j]\n",
        "                    self.Weghits[i][j] += w_ij\n",
        "                    self.Weghits[j][i] += w_ij                  \n",
        "                else:\n",
        "                    self.Weghits[i][j] = 0\n",
        "\n",
        "          print(\"Weight matrix is done!!\")\n",
        "\n",
        "\n",
        "    def energy(self, S):\n",
        "      energy=  -0.5 * np.matmul(np.matmul(S.T,self.Weghits), S)\n",
        "      return energy\n",
        "\n",
        "\n",
        "\n",
        "    def Predict(self, pattern, iterations, Async=False):\n",
        "      n_img = self.mat2vec(pattern)\n",
        "\n",
        "      if Async == False:\n",
        "        energy = self.energy(n_img)\n",
        "        for i in range(iterations):\n",
        "          n_img = np.sign(np.matmul(self.Weghits, n_img))\n",
        "          after_energy = self.energy(n_img)\n",
        "          if energy == after_energy:\n",
        "            return n_img\n",
        "          energy = after_energy\n",
        "        return n_img"
      ],
      "metadata": {
        "id": "sBjZ0iua3drl"
      },
      "execution_count": 73,
      "outputs": []
    },
    {
      "cell_type": "markdown",
      "source": [
        "**MAKE DATA**"
      ],
      "metadata": {
        "id": "muyf6CA736CL"
      }
    },
    {
      "cell_type": "code",
      "source": [
        "# Q2_graded\n",
        "(x_train, y_train), (_, _ )= fashion_mnist.load_data()\n",
        "train_imgs=[]\n",
        "top_idx = np.where( y_train == 0 )[0]\n",
        "Trouser_idx= np.where( y_train == 1 )[0]\n",
        "Pullover_idx= np.where( y_train == 2 )[0]\n",
        "Dress_idx= np.where( y_train == 3 )[0]\n",
        "Coat_idx= np.where( y_train == 4 )[0]\n",
        "Sandal_idx= np.where( y_train == 5 )[0]\n",
        "Shirt_idx= np.where( y_train == 6 )[0]\n",
        "Sneaker_idx= np.where( y_train == 7 )[0]\n",
        "Bag_idx= np.where( y_train == 8 )[0]\n",
        "boot_idx= np.where( y_train == 9 )[0]\n",
        "for i in [top_idx,Trouser_idx,Pullover_idx,Dress_idx,Coat_idx,Sandal_idx,Shirt_idx,Sneaker_idx,Bag_idx,boot_idx]:\n",
        "  rand_idx = i[np.random.randint(0, len(i))]\n",
        "  train_imgs.append(x_train[rand_idx])"
      ],
      "metadata": {
        "id": "9UqCchaD33Ax"
      },
      "execution_count": 74,
      "outputs": []
    },
    {
      "cell_type": "markdown",
      "source": [
        "**MAKE NOISED DATA**"
      ],
      "metadata": {
        "id": "omxS8BaW4CrA"
      }
    },
    {
      "cell_type": "code",
      "source": [
        "# Q2_graded\n",
        "test_imgs_10_percent=[]\n",
        "test_imgs_30_percent=[]\n",
        "test_imgs_60_percent=[]\n",
        "for data in train_imgs:\n",
        "    tmp= random_noise(data , mode='s&p',amount=0.1)\n",
        "    test_imgs_10_percent.append(tmp)\n",
        "\n",
        "for data in train_imgs:\n",
        "     tmp= random_noise(data , mode='s&p',amount=0.3)\n",
        "     test_imgs_30_percent.append(tmp)\n",
        "\n",
        "for data in train_imgs:\n",
        "     tmp= random_noise(data , mode='s&p',amount=0.6)\n",
        "     test_imgs_60_percent.append(tmp)"
      ],
      "metadata": {
        "id": "_T0X0h6p4B0F"
      },
      "execution_count": 75,
      "outputs": []
    },
    {
      "cell_type": "markdown",
      "source": [
        "**Train and SHOW TRAIN IMAGES**"
      ],
      "metadata": {
        "id": "lNLWsao_4MGt"
      }
    },
    {
      "cell_type": "code",
      "source": [
        "# Q2_graded\n",
        "net=hopfield(train_imgs,(28,28))\n",
        "net.creat_w_matrix(train_imgs)\n",
        "fig, axeslist = plt.subplots(ncols=5, nrows=2, figsize=(15,15))\n",
        "plt.subplots_adjust(wspace=0.1, hspace=0.1, left=0, right=0.5, bottom=0, top=0.2)\n",
        "idx = 0\n",
        "for i in range(2):\n",
        "  for j in range(5):\n",
        "    axeslist[i][j].imshow(np.reshape( train_imgs[idx], (28, 28)),  cmap='gray')\n",
        "    idx += 1"
      ],
      "metadata": {
        "colab": {
          "base_uri": "https://localhost:8080/",
          "height": 298
        },
        "id": "bCyoXy6s4IyZ",
        "outputId": "9dcabe4c-2806-488d-8954-26e8f7b31b26"
      },
      "execution_count": 76,
      "outputs": [
        {
          "output_type": "stream",
          "name": "stdout",
          "text": [
            "Importing images and creating weight matrix....\n",
            "Weight matrix is done!!\n"
          ]
        },
        {
          "output_type": "display_data",
          "data": {
            "text/plain": [
              "<Figure size 1080x1080 with 10 Axes>"
            ],
            "image/png": "[encoded data removed]"
          },
          "metadata": {
            "needs_background": "light"
          }
        }
      ]
    },
    {
      "cell_type": "markdown",
      "source": [
        "**Predicts**"
      ],
      "metadata": {
        "id": "P03jKawr4ip2"
      }
    },
    {
      "cell_type": "code",
      "source": [
        "# Q2_graded\n",
        "predicted_images_10 = []\n",
        "predicted_images_30 = []\n",
        "predicted_images_60= []\n",
        "for img in test_imgs_10_percent:\n",
        "  new_img = net.Predict(img, 2)\n",
        "  predicted_images_10.append(new_img)\n",
        "\n",
        "for img in test_imgs_30_percent:\n",
        "  new_img = net.Predict(img, 2)\n",
        "  predicted_images_30.append(new_img)\n",
        "\n",
        "\n",
        "for img in test_imgs_60_percent:\n",
        "  new_img = net.Predict(img, 2)\n",
        "  predicted_images_60.append(new_img)\n"
      ],
      "metadata": {
        "id": "CIR28yoj4dXc"
      },
      "execution_count": 77,
      "outputs": []
    },
    {
      "cell_type": "markdown",
      "source": [
        "**SHOW Predictions and ACC**"
      ],
      "metadata": {
        "id": "liFyrNUb4q8Q"
      }
    },
    {
      "cell_type": "code",
      "source": [
        "# Q2_graded\n",
        "fig, axeslist = plt.subplots(ncols=5, nrows=2, figsize=(15,15))\n",
        "plt.subplots_adjust(wspace=0.1, hspace=0.1, left=0, right=0.5, bottom=0, top=0.2)\n",
        "idx = 0\n",
        "for i in range(2):\n",
        "  for j in range(5):\n",
        "    axeslist[i][j].imshow(np.reshape( predicted_images_10[idx], (28, 28)),  cmap='gray')\n",
        "    idx += 1\n",
        "    \n",
        "fig, axeslist = plt.subplots(ncols=5, nrows=2, figsize=(15,15))\n",
        "plt.subplots_adjust(wspace=0.1, hspace=0.1, left=0, right=0.5, bottom=0, top=0.2)\n",
        "idx = 0\n",
        "for i in range(2):\n",
        "  for j in range(5):\n",
        "    axeslist[i][j].imshow(np.reshape( predicted_images_30[idx], (28, 28)),  cmap='gray')\n",
        "    idx += 1\n",
        "\n",
        "fig, axeslist = plt.subplots(ncols=5, nrows=2, figsize=(15,15))\n",
        "plt.subplots_adjust(wspace=0.1, hspace=0.1, left=0, right=0.5, bottom=0, top=0.2)\n",
        "idx = 0\n",
        "for i in range(2):\n",
        "  for j in range(5):\n",
        "    axeslist[i][j].imshow(np.reshape( predicted_images_60[idx], (28, 28)),  cmap='gray')\n",
        "    idx += 1\n",
        "\n",
        "print(\"acc for 10 percent noise in 28*28 net\")\n",
        "Acc(train_imgs,predicted_images_10,net)\n",
        "print(\"acc for 30 percent noise in 28*28 net\")\n",
        "Acc(train_imgs,predicted_images_30,net)\n",
        "print(\"acc for 60 percent noise in 28*28 net\")\n",
        "Acc(train_imgs,predicted_images_60,net)"
      ],
      "metadata": {
        "colab": {
          "base_uri": "https://localhost:8080/",
          "height": 1000
        },
        "id": "3hEb31lA4wN1",
        "outputId": "836da2cd-344b-4bf6-8c55-8df03f4d9b47"
      },
      "execution_count": 78,
      "outputs": [
        {
          "output_type": "stream",
          "name": "stdout",
          "text": [
            "acc for 10 percent noise in 28*28 net\n",
            "image 1 accuracy : 0.8201530612244898\n",
            "image 2 accuracy : 0.9107142857142857\n",
            "image 3 accuracy : 0.8635204081632653\n",
            "image 4 accuracy : 0.9272959183673469\n",
            "image 5 accuracy : 0.9068877551020408\n",
            "image 6 accuracy : 0.8558673469387755\n",
            "image 7 accuracy : 0.8086734693877551\n",
            "image 8 accuracy : 0.7512755102040817\n",
            "image 9 accuracy : 0.8214285714285714\n",
            "image 10 accuracy : 0.7155612244897959\n",
            "total accuracy : 0.8381377551020408\n",
            "acc for 30 percent noise in 28*28 net\n",
            "image 1 accuracy : 0.8201530612244898\n",
            "image 2 accuracy : 0.9107142857142857\n",
            "image 3 accuracy : 0.8584183673469388\n",
            "image 4 accuracy : 0.9272959183673469\n",
            "image 5 accuracy : 0.8698979591836735\n",
            "image 6 accuracy : 0.9936224489795918\n",
            "image 7 accuracy : 0.8086734693877551\n",
            "image 8 accuracy : 0.7232142857142857\n",
            "image 9 accuracy : 0.8252551020408163\n",
            "image 10 accuracy : 0.7155612244897959\n",
            "total accuracy : 0.8452806122448979\n",
            "acc for 60 percent noise in 28*28 net\n",
            "image 1 accuracy : 0.8188775510204082\n",
            "image 2 accuracy : 0.9107142857142857\n",
            "image 3 accuracy : 0.826530612244898\n",
            "image 4 accuracy : 0.9298469387755102\n",
            "image 5 accuracy : 0.8022959183673469\n",
            "image 6 accuracy : 0.7844387755102041\n",
            "image 7 accuracy : 0.8086734693877551\n",
            "image 8 accuracy : 0.764030612244898\n",
            "image 9 accuracy : 0.8290816326530612\n",
            "image 10 accuracy : 0.6875\n",
            "total accuracy : 0.8161989795918367\n"
          ]
        },
        {
          "output_type": "display_data",
          "data": {
            "text/plain": [
              "<Figure size 1080x1080 with 10 Axes>"
            ],
            "image/png": "[encoded data removed]"
          },
          "metadata": {
            "needs_background": "light"
          }
        },
        {
          "output_type": "display_data",
          "data": {
            "text/plain": [
              "<Figure size 1080x1080 with 10 Axes>"
            ],
            "image/png": "[encoded data removed]"
          },
          "metadata": {
            "needs_background": "light"
          }
        },
        {
          "output_type": "display_data",
          "data": {
            "text/plain": [
              "<Figure size 1080x1080 with 10 Axes>"
            ],
            "image/png": "[encoded data removed]"
          },
          "metadata": {
            "needs_background": "light"
          }
        }
      ]
    },
    {
      "cell_type": "markdown",
      "source": [
        "**NETs with other Num_nureouns**"
      ],
      "metadata": {
        "id": "tP2rnV9B5u0N"
      }
    },
    {
      "cell_type": "markdown",
      "source": [
        "making data prepared for nets"
      ],
      "metadata": {
        "id": "t3_sMkSF6Fw5"
      }
    },
    {
      "cell_type": "code",
      "source": [
        "# Q2_graded\n",
        "train_imgs_32 = []\n",
        "train_imgs_15 = []\n",
        "for img in train_imgs:\n",
        "  resized32_img = resize(img, (32, 32))\n",
        "  resized15_img = resize(img, (15, 15))\n",
        "  train_imgs_32.append(resized32_img)\n",
        "  train_imgs_15.append(resized15_img)\n",
        "\n",
        "test_imgs_10_percent_15=[]\n",
        "test_imgs_30_percent_15=[]\n",
        "test_imgs_60_percent_15=[]\n",
        "for data in train_imgs_15:\n",
        "    tmp= random_noise(data , mode='s&p',amount=0.1)\n",
        "    test_imgs_10_percent_15.append(tmp)\n",
        "\n",
        "for data in train_imgs_15:\n",
        "     tmp= random_noise(data , mode='s&p',amount=0.3)\n",
        "     test_imgs_30_percent_15.append(tmp)\n",
        "\n",
        "for data in train_imgs_15:\n",
        "     tmp= random_noise(data , mode='s&p',amount=0.6)\n",
        "     test_imgs_60_percent_15.append(tmp)\n",
        "\n",
        "\n",
        "test_imgs_10_percent_32=[]\n",
        "test_imgs_30_percent_32=[]\n",
        "test_imgs_60_percent_32=[]\n",
        "for data in train_imgs_32:\n",
        "    tmp= random_noise(data , mode='s&p',amount=0.1)\n",
        "    test_imgs_10_percent_32.append(tmp)\n",
        "\n",
        "for data in train_imgs_32:\n",
        "     tmp= random_noise(data , mode='s&p',amount=0.3)\n",
        "     test_imgs_30_percent_32.append(tmp)\n",
        "\n",
        "for data in train_imgs_32:\n",
        "     tmp= random_noise(data , mode='s&p',amount=0.6)\n",
        "     test_imgs_60_percent_32.append(tmp)\n"
      ],
      "metadata": {
        "id": "8qQeRmPq5uZd"
      },
      "execution_count": 79,
      "outputs": []
    },
    {
      "cell_type": "markdown",
      "source": [
        "32*32 NET"
      ],
      "metadata": {
        "id": "vrUwUT6U71qp"
      }
    },
    {
      "cell_type": "code",
      "source": [
        "# Q2_graded\n",
        "net32=hopfield(train_imgs_32,(32,32))\n",
        "net32.creat_w_matrix(train_imgs_32)\n",
        "fig, axeslist = plt.subplots(ncols=5, nrows=2, figsize=(15,15))\n",
        "plt.subplots_adjust(wspace=0.1, hspace=0.1, left=0, right=0.5, bottom=0, top=0.2)\n",
        "idx = 0\n",
        "for i in range(2):\n",
        "  for j in range(5):\n",
        "    axeslist[i][j].imshow(np.reshape( train_imgs_32[idx], (32, 32)),  cmap='gray')\n",
        "    idx += 1\n",
        "\n",
        "\n",
        "predicted_images_10_32 = []\n",
        "predicted_images_30_32 = []\n",
        "predicted_images_60_32= []\n",
        "for img in test_imgs_10_percent_32:\n",
        "  new_img = net32.Predict(img, 2)\n",
        "  predicted_images_10_32.append(new_img)\n",
        "  plt.figure()\n",
        "  plt.imshow(np.reshape(new_img, (32, 32)))\n",
        "\n",
        "for img in test_imgs_30_percent_32:\n",
        "  new_img = net32.Predict(img, 2)\n",
        "  predicted_images_30_32.append(new_img)\n",
        "\n",
        "\n",
        "for img in test_imgs_60_percent_32:\n",
        "  new_img = net32.Predict(img, 2)\n",
        "  predicted_images_60_32.append(new_img)\n",
        "\n",
        "\n",
        "\n",
        "fig, axeslist = plt.subplots(ncols=5, nrows=2, figsize=(15,15))\n",
        "plt.subplots_adjust(wspace=0.1, hspace=0.1, left=0, right=0.5, bottom=0, top=0.2)\n",
        "idx = 0\n",
        "for i in range(2):\n",
        "  for j in range(5):\n",
        "    axeslist[i][j].imshow(np.reshape( predicted_images_10_32[idx], (32, 32)),  cmap='gray')\n",
        "    idx += 1\n",
        "    \n",
        "fig, axeslist = plt.subplots(ncols=5, nrows=2, figsize=(15,15))\n",
        "plt.subplots_adjust(wspace=0.1, hspace=0.1, left=0, right=0.5, bottom=0, top=0.2)\n",
        "idx = 0\n",
        "for i in range(2):\n",
        "  for j in range(5):\n",
        "    axeslist[i][j].imshow(np.reshape( predicted_images_30_32[idx], (32, 32)),  cmap='gray')\n",
        "    idx += 1\n",
        "\n",
        "fig, axeslist = plt.subplots(ncols=5, nrows=2, figsize=(15,15))\n",
        "plt.subplots_adjust(wspace=0.1, hspace=0.1, left=0, right=0.5, bottom=0, top=0.2)\n",
        "idx = 0\n",
        "for i in range(2):\n",
        "  for j in range(5):\n",
        "    axeslist[i][j].imshow(np.reshape( predicted_images_60_32[idx], (32, 32)),  cmap='gray')\n",
        "    idx += 1\n",
        "\n",
        "print(\"acc for 10 percent noise in 32*32 net\")\n",
        "Acc(train_imgs_32,predicted_images_10_32,net32)\n",
        "print(\"acc for 30 percent noise in 32*32 net\")\n",
        "Acc(train_imgs_32,predicted_images_30_32,net32)\n",
        "print(\"acc for 60 percent noise in 32*32 net\")\n",
        "Acc(train_imgs_32,predicted_images_60_32,net32)\n"
      ],
      "metadata": {
        "colab": {
          "base_uri": "https://localhost:8080/",
          "height": 1000
        },
        "id": "Dhlq_3p671Q9",
        "outputId": "59dbf285-51da-43f5-c0de-ae70519da1f6"
      },
      "execution_count": 80,
      "outputs": [
        {
          "output_type": "stream",
          "name": "stdout",
          "text": [
            "Importing images and creating weight matrix....\n",
            "Weight matrix is done!!\n",
            "acc for 10 percent noise in 32*32 net\n",
            "image 1 accuracy : 0.8486328125\n",
            "image 2 accuracy : 0.9228515625\n",
            "image 3 accuracy : 0.8798828125\n",
            "image 4 accuracy : 0.9228515625\n",
            "image 5 accuracy : 0.947265625\n",
            "image 6 accuracy : 0.9990234375\n",
            "image 7 accuracy : 0.810546875\n",
            "image 8 accuracy : 0.73046875\n",
            "image 9 accuracy : 0.83203125\n",
            "image 10 accuracy : 0.783203125\n",
            "total accuracy : 0.86767578125\n",
            "acc for 30 percent noise in 32*32 net\n",
            "image 1 accuracy : 0.849609375\n",
            "image 2 accuracy : 0.9248046875\n",
            "image 3 accuracy : 0.8798828125\n",
            "image 4 accuracy : 0.9228515625\n",
            "image 5 accuracy : 0.83203125\n",
            "image 6 accuracy : 0.9990234375\n",
            "image 7 accuracy : 0.810546875\n",
            "image 8 accuracy : 0.7119140625\n",
            "image 9 accuracy : 0.84375\n",
            "image 10 accuracy : 0.7919921875\n",
            "total accuracy : 0.856640625\n",
            "acc for 60 percent noise in 32*32 net\n",
            "image 1 accuracy : 0.8173828125\n",
            "image 2 accuracy : 0.9228515625\n",
            "image 3 accuracy : 0.875\n",
            "image 4 accuracy : 0.9091796875\n",
            "image 5 accuracy : 0.818359375\n",
            "image 6 accuracy : 0.8525390625\n",
            "image 7 accuracy : 0.814453125\n",
            "image 8 accuracy : 0.70703125\n",
            "image 9 accuracy : 0.8583984375\n",
            "image 10 accuracy : 0.7939453125\n",
            "total accuracy : 0.8369140625\n"
          ]
        },
        {
          "output_type": "display_data",
          "data": {
            "text/plain": [
              "<Figure size 1080x1080 with 10 Axes>"
            ],
            "image/png": "[encoded data removed]"
          },
          "metadata": {
            "needs_background": "light"
          }
        },
        {
          "output_type": "display_data",
          "data": {
            "text/plain": [
              "<Figure size 432x288 with 1 Axes>"
            ],
            "image/png": "[encoded data removed]"
          },
          "metadata": {
            "needs_background": "light"
          }
        },
        {
          "output_type": "display_data",
          "data": {
            "text/plain": [
              "<Figure size 432x288 with 1 Axes>"
            ],
            "image/png": "[encoded data removed]"
          },
          "metadata": {
            "needs_background": "light"
          }
        },
        {
          "output_type": "display_data",
          "data": {
            "text/plain": [
              "<Figure size 432x288 with 1 Axes>"
            ],
            "image/png": "[encoded data removed]"
          },
          "metadata": {
            "needs_background": "light"
          }
        },
        {
          "output_type": "display_data",
          "data": {
            "text/plain": [
              "<Figure size 432x288 with 1 Axes>"
            ],
            "image/png": "[encoded data removed]"
          },
          "metadata": {
            "needs_background": "light"
          }
        },
        {
          "output_type": "display_data",
          "data": {
            "text/plain": [
              "<Figure size 432x288 with 1 Axes>"
            ],
            "image/png": "[encoded data removed]"
          },
          "metadata": {
            "needs_background": "light"
          }
        },
        {
          "output_type": "display_data",
          "data": {
            "text/plain": [
              "<Figure size 432x288 with 1 Axes>"
            ],
            "image/png": "[encoded data removed]"
          },
          "metadata": {
            "needs_background": "light"
          }
        },
        {
          "output_type": "display_data",
          "data": {
            "text/plain": [
              "<Figure size 432x288 with 1 Axes>"
            ],
            "image/png": "[encoded data removed]"
          },
          "metadata": {
            "needs_background": "light"
          }
        },
        {
          "output_type": "display_data",
          "data": {
            "text/plain": [
              "<Figure size 432x288 with 1 Axes>"
            ],
            "image/png": "[encoded data removed]"
          },
          "metadata": {
            "needs_background": "light"
          }
        },
        {
          "output_type": "display_data",
          "data": {
            "text/plain": [
              "<Figure size 432x288 with 1 Axes>"
            ],
            "image/png": "[encoded data removed]"
          },
          "metadata": {
            "needs_background": "light"
          }
        },
        {
          "output_type": "display_data",
          "data": {
            "text/plain": [
              "<Figure size 432x288 with 1 Axes>"
            ],
            "image/png": "[encoded data removed]"
          },
          "metadata": {
            "needs_background": "light"
          }
        },
        {
          "output_type": "display_data",
          "data": {
            "text/plain": [
              "<Figure size 1080x1080 with 10 Axes>"
            ],
            "image/png": "[encoded data removed]"
          },
          "metadata": {
            "needs_background": "light"
          }
        },
        {
          "output_type": "display_data",
          "data": {
            "text/plain": [
              "<Figure size 1080x1080 with 10 Axes>"
            ],
            "image/png": "[encoded data removed]"
          },
          "metadata": {
            "needs_background": "light"
          }
        },
        {
          "output_type": "display_data",
          "data": {
            "text/plain": [
              "<Figure size 1080x1080 with 10 Axes>"
            ],
            "image/png": "[encoded data removed]"
          },
          "metadata": {
            "needs_background": "light"
          }
        }
      ]
    },
    {
      "cell_type": "markdown",
      "source": [
        "15*15 NET"
      ],
      "metadata": {
        "id": "Z9S7NAe__lj1"
      }
    },
    {
      "cell_type": "code",
      "source": [
        "# Q2_graded\n",
        "net15=hopfield(train_imgs_15,(15,15))\n",
        "net15.creat_w_matrix(train_imgs_15)\n",
        "fig, axeslist = plt.subplots(ncols=5, nrows=2, figsize=(15,15))\n",
        "plt.subplots_adjust(wspace=0.1, hspace=0.1, left=0, right=0.5, bottom=0, top=0.2)\n",
        "idx = 0\n",
        "for i in range(2):\n",
        "  for j in range(5):\n",
        "    axeslist[i][j].imshow(np.reshape( train_imgs_15[idx], (15, 15)),  cmap='gray')\n",
        "    idx += 1\n",
        "\n",
        "\n",
        "predicted_images_10_15 = []\n",
        "predicted_images_30_15 = []\n",
        "predicted_images_60_15= []\n",
        "for img in test_imgs_10_percent_15:\n",
        "  new_img = net15.Predict(img, 2)\n",
        "  predicted_images_10_15.append(new_img)\n",
        "  plt.figure()\n",
        "  plt.imshow(np.reshape(new_img, (15, 15)))\n",
        "\n",
        "for img in test_imgs_30_percent_15:\n",
        "  new_img = net15.Predict(img, 2)\n",
        "  predicted_images_30_15.append(new_img)\n",
        "\n",
        "\n",
        "for img in test_imgs_60_percent_15:\n",
        "  new_img = net15.Predict(img, 2)\n",
        "  predicted_images_60_15.append(new_img)\n",
        "\n",
        "\n",
        "\n",
        "fig, axeslist = plt.subplots(ncols=5, nrows=2, figsize=(15,15))\n",
        "plt.subplots_adjust(wspace=0.1, hspace=0.1, left=0, right=0.5, bottom=0, top=0.2)\n",
        "idx = 0\n",
        "for i in range(2):\n",
        "  for j in range(5):\n",
        "    axeslist[i][j].imshow(np.reshape( predicted_images_10_15[idx], (15, 15)),  cmap='gray')\n",
        "    idx += 1\n",
        "    \n",
        "fig, axeslist = plt.subplots(ncols=5, nrows=2, figsize=(15,15))\n",
        "plt.subplots_adjust(wspace=0.1, hspace=0.1, left=0, right=0.5, bottom=0, top=0.2)\n",
        "idx = 0\n",
        "for i in range(2):\n",
        "  for j in range(5):\n",
        "    axeslist[i][j].imshow(np.reshape( predicted_images_30_15[idx], (15, 15)),  cmap='gray')\n",
        "    idx += 1\n",
        "\n",
        "fig, axeslist = plt.subplots(ncols=5, nrows=2, figsize=(15,15))\n",
        "plt.subplots_adjust(wspace=0.1, hspace=0.1, left=0, right=0.5, bottom=0, top=0.2)\n",
        "idx = 0\n",
        "for i in range(2):\n",
        "  for j in range(5):\n",
        "    axeslist[i][j].imshow(np.reshape( predicted_images_60_15[idx], (15, 15)),  cmap='gray')\n",
        "    idx += 1\n",
        "\n",
        "print(\"acc for 10 percent noise in15*15 net\")\n",
        "Acc(train_imgs_15,predicted_images_10_15,net15)\n",
        "print(\"acc for 30 percent noise in 15*15 net\")\n",
        "Acc(train_imgs_15,predicted_images_30_15,net15)\n",
        "print(\"acc for 60 percent noise in 15*15 net\")\n",
        "Acc(train_imgs_15,predicted_images_60_15,net15)"
      ],
      "metadata": {
        "colab": {
          "base_uri": "https://localhost:8080/",
          "height": 1000
        },
        "id": "hUXceFTu_lDh",
        "outputId": "760768a4-2784-413b-b2db-f96e0e42eb56"
      },
      "execution_count": 81,
      "outputs": [
        {
          "output_type": "stream",
          "name": "stdout",
          "text": [
            "Importing images and creating weight matrix....\n",
            "Weight matrix is done!!\n",
            "acc for 10 percent noise in15*15 net\n",
            "image 1 accuracy : 0.8222222222222222\n",
            "image 2 accuracy : 0.9466666666666667\n",
            "image 3 accuracy : 0.8888888888888888\n",
            "image 4 accuracy : 0.9288888888888889\n",
            "image 5 accuracy : 0.9688888888888889\n",
            "image 6 accuracy : 1.0\n",
            "image 7 accuracy : 0.8044444444444444\n",
            "image 8 accuracy : 0.7244444444444444\n",
            "image 9 accuracy : 0.8711111111111111\n",
            "image 10 accuracy : 0.7955555555555556\n",
            "total accuracy : 0.8751111111111112\n",
            "acc for 30 percent noise in 15*15 net\n",
            "image 1 accuracy : 0.8177777777777778\n",
            "image 2 accuracy : 0.9466666666666667\n",
            "image 3 accuracy : 0.8888888888888888\n",
            "image 4 accuracy : 0.9288888888888889\n",
            "image 5 accuracy : 0.9555555555555556\n",
            "image 6 accuracy : 0.7288888888888889\n",
            "image 7 accuracy : 0.8044444444444444\n",
            "image 8 accuracy : 0.7644444444444445\n",
            "image 9 accuracy : 0.8711111111111111\n",
            "image 10 accuracy : 0.6666666666666666\n",
            "total accuracy : 0.8373333333333333\n",
            "acc for 60 percent noise in 15*15 net\n",
            "image 1 accuracy : 0.8177777777777778\n",
            "image 2 accuracy : 0.9511111111111111\n",
            "image 3 accuracy : 0.7733333333333333\n",
            "image 4 accuracy : 0.9377777777777778\n",
            "image 5 accuracy : 0.8355555555555556\n",
            "image 6 accuracy : 0.9822222222222222\n",
            "image 7 accuracy : 0.7866666666666666\n",
            "image 8 accuracy : 0.8666666666666667\n",
            "image 9 accuracy : 0.8666666666666667\n",
            "image 10 accuracy : 0.6311111111111111\n",
            "total accuracy : 0.8448888888888888\n"
          ]
        },
        {
          "output_type": "display_data",
          "data": {
            "text/plain": [
              "<Figure size 1080x1080 with 10 Axes>"
            ],
            "image/png": "[encoded data removed]"
          },
          "metadata": {
            "needs_background": "light"
          }
        },
        {
          "output_type": "display_data",
          "data": {
            "text/plain": [
              "<Figure size 432x288 with 1 Axes>"
            ],
            "image/png": "[encoded data removed]"
          },
          "metadata": {
            "needs_background": "light"
          }
        },
        {
          "output_type": "display_data",
          "data": {
            "text/plain": [
              "<Figure size 432x288 with 1 Axes>"
            ],
            "image/png": "[encoded data removed]"
          },
          "metadata": {
            "needs_background": "light"
          }
        },
        {
          "output_type": "display_data",
          "data": {
            "text/plain": [
              "<Figure size 432x288 with 1 Axes>"
            ],
            "image/png": "[encoded data removed]"
          },
          "metadata": {
            "needs_background": "light"
          }
        },
        {
          "output_type": "display_data",
          "data": {
            "text/plain": [
              "<Figure size 432x288 with 1 Axes>"
            ],
            "image/png": "[encoded data removed]"
          },
          "metadata": {
            "needs_background": "light"
          }
        },
        {
          "output_type": "display_data",
          "data": {
            "text/plain": [
              "<Figure size 432x288 with 1 Axes>"
            ],
            "image/png": "[encoded data removed]"
          },
          "metadata": {
            "needs_background": "light"
          }
        },
        {
          "output_type": "display_data",
          "data": {
            "text/plain": [
              "<Figure size 432x288 with 1 Axes>"
            ],
            "image/png": "[encoded data removed]"
          },
          "metadata": {
            "needs_background": "light"
          }
        },
        {
          "output_type": "display_data",
          "data": {
            "text/plain": [
              "<Figure size 432x288 with 1 Axes>"
            ],
            "image/png": "[encoded data removed]"
          },
          "metadata": {
            "needs_background": "light"
          }
        },
        {
          "output_type": "display_data",
          "data": {
            "text/plain": [
              "<Figure size 432x288 with 1 Axes>"
            ],
            "image/png": "[encoded data removed]"
          },
          "metadata": {
            "needs_background": "light"
          }
        },
        {
          "output_type": "display_data",
          "data": {
            "text/plain": [
              "<Figure size 432x288 with 1 Axes>"
            ],
            "image/png": "[encoded data removed]"
          },
          "metadata": {
            "needs_background": "light"
          }
        },
        {
          "output_type": "display_data",
          "data": {
            "text/plain": [
              "<Figure size 432x288 with 1 Axes>"
            ],
            "image/png": "[encoded data removed]"
          },
          "metadata": {
            "needs_background": "light"
          }
        },
        {
          "output_type": "display_data",
          "data": {
            "text/plain": [
              "<Figure size 1080x1080 with 10 Axes>"
            ],
            "image/png": "[encoded data removed]"
          },
          "metadata": {
            "needs_background": "light"
          }
        },
        {
          "output_type": "display_data",
          "data": {
            "text/plain": [
              "<Figure size 1080x1080 with 10 Axes>"
            ],
            "image/png": "[encoded data removed]"
          },
          "metadata": {
            "needs_background": "light"
          }
        },
        {
          "output_type": "display_data",
          "data": {
            "text/plain": [
              "<Figure size 1080x1080 with 10 Axes>"
            ],
            "image/png": "[encoded data removed]"
          },
          "metadata": {
            "needs_background": "light"
          }
        }
      ]
    },
    {
      "cell_type": "markdown",
      "metadata": {
        "id": "KagK_GF4FCuL"
      },
      "source": [
        "# Q3"
      ]
    },
    {
      "cell_type": "code",
      "execution_count": 82,
      "metadata": {
        "id": "M1F9EvDWFSOm"
      },
      "outputs": [],
      "source": [
        "# Q3_graded\n",
        "# Do not change the above line.\n",
        "import pandas as pd\n",
        "import numpy as np\n",
        "import matplotlib.pyplot as plt\n",
        "import csv"
      ]
    },
    {
      "cell_type": "code",
      "source": [
        "# Q3_graded\n",
        "import numpy as np\n",
        "import pandas as pd\n",
        "import matplotlib.pyplot as plt\n",
        "import matplotlib as mpl\n",
        "\n",
        "def read_tsp():\n",
        "        node_coord_start = None\n",
        "        dimension = None\n",
        "        cities = pd.read_csv(\"Cities.csv\",sep=' ',names=['city', 'y', 'x'],\n",
        "            dtype={'city': str, 'x': np.float64, 'y': np.float64},\n",
        "            header=None,\n",
        "            nrows=dimension )\n",
        "\n",
        "\n",
        "        return cities\n",
        "\n",
        "def normalize(points):\n",
        "    \"\"\"\n",
        "    Return the normalized version of a given vector of points.\n",
        "    For a given array of n-dimensions, normalize each dimension by removing the\n",
        "    initial offset and normalizing the points in a proportional interval: [0,1]\n",
        "    on y, maintining the original ratio on x.\n",
        "    \"\"\"\n",
        "    ratio = (points.x.max() - points.x.min()) / (points.y.max() - points.y.min()), 1\n",
        "    ratio = np.array(ratio) / max(ratio)\n",
        "    norm = points.apply(lambda c: (c - c.min()) / (c.max() - c.min()))\n",
        "    return norm.apply(lambda p: ratio * p, axis=1)\n",
        "\n",
        "def select_closest(candidates, origin):\n",
        "    \"\"\"Return the index of the closest candidate to a given point.\"\"\"\n",
        "    return euclidean_distance(candidates, origin).argmin()\n",
        "\n",
        "def euclidean_distance(a, b):\n",
        "    \"\"\"Return the array of distances of two numpy arrays of points.\"\"\"\n",
        "    return np.linalg.norm(a - b, axis=1)\n",
        "\n",
        "def route_distance(cities):\n",
        "    \"\"\"Return the cost of traversing a route of cities in a certain order.\"\"\"\n",
        "    points = cities[['x', 'y']]\n",
        "    distances = euclidean_distance(points, np.roll(points, 1, axis=0))\n",
        "    return np.sum(distances)\n",
        "\n",
        "def generate_network(size):\n",
        "    \"\"\"\n",
        "    Generate a neuron network of a given size.\n",
        "    Return a vector of two dimensional points in the interval [0,1].\n",
        "    \"\"\"\n",
        "    return np.random.rand(size, 2)\n",
        "\n",
        "def get_neighborhood(center, radix, domain):\n",
        "    \"\"\"Get the range gaussian of given radix around a center index.\"\"\"\n",
        "\n",
        "    # Impose an upper bound on the radix to prevent NaN and blocks\n",
        "    if radix < 1:\n",
        "        radix = 1\n",
        "\n",
        "    # Compute the circular network distance to the center\n",
        "    deltas = np.absolute(center - np.arange(domain))\n",
        "    distances = np.minimum(deltas, domain - deltas)\n",
        "\n",
        "    # Compute Gaussian distribution around the given center\n",
        "    return np.exp(-(distances*distances) / (2*(radix*radix)))\n",
        "\n",
        "def get_route(cities, network):\n",
        "    \"\"\"Return the route computed by a network.\"\"\"\n",
        "    cities['winner'] = cities[['x', 'y']].apply(\n",
        "        lambda c: select_closest(network, c),\n",
        "        axis=1, raw=True)\n",
        "\n",
        "    return cities.sort_values('winner')\n",
        "\n",
        "def plot_network(cities, neurons, name='diagram.png', ax=None):\n",
        "    \"\"\"Plot a graphical representation of the problem\"\"\"\n",
        "    mpl.rcParams['agg.path.chunksize'] = 10000\n",
        "\n",
        "    if not ax:\n",
        "        fig = plt.figure(figsize=(5, 5), frameon = False)\n",
        "        axis = fig.add_axes([0,0,1,1])\n",
        "\n",
        "        axis.set_aspect('equal', adjustable='datalim')\n",
        "        plt.axis('off')\n",
        "\n",
        "        axis.scatter(cities['x'], cities['y'], color='red', s=4)\n",
        "        axis.plot(neurons[:,0], neurons[:,1], 'r.', ls='-', color='#0063ba', markersize=2)\n",
        "\n",
        "        plt.savefig(name, bbox_inches='tight', pad_inches=0, dpi=200)\n",
        "        plt.close()\n",
        "\n",
        "    else:\n",
        "        ax.scatter(cities['x'], cities['y'], color='red', s=4)\n",
        "        ax.plot(neurons[:,0], neurons[:,1], 'r.', ls='-', color='#0063ba', markersize=2)\n",
        "        return ax\n",
        "\n",
        "def plot_route(cities, route, name='diagram.png', ax=None):\n",
        "    \"\"\"Plot a graphical representation of the route obtained\"\"\"\n",
        "    mpl.rcParams['agg.path.chunksize'] = 10000\n",
        "\n",
        "    if not ax:\n",
        "        fig = plt.figure(figsize=(5, 5), frameon = False)\n",
        "        axis = fig.add_axes([0,0,1,1])\n",
        "\n",
        "        axis.set_aspect('equal', adjustable='datalim')\n",
        "        plt.axis('off')\n",
        "\n",
        "        axis.scatter(cities['x'], cities['y'], color='red', s=4)\n",
        "        route = cities.reindex(route)\n",
        "        route.loc[route.shape[0]] = route.iloc[0]\n",
        "        axis.plot(route['x'], route['y'], color='purple', linewidth=1)\n",
        "\n",
        "        plt.savefig(name, bbox_inches='tight', pad_inches=0, dpi=200)\n",
        "        plt.close()\n",
        "\n",
        "    else:\n",
        "        ax.scatter(cities['x'], cities['y'], color='red', s=4)\n",
        "        route = cities.reindex(route)\n",
        "        route.loc[route.shape[0]] = route.iloc[0]\n",
        "        ax.plot(route['x'], route['y'], color='purple', linewidth=1)\n",
        "        return ax\n",
        "\n"
      ],
      "metadata": {
        "id": "KaM_wR5uWgUZ"
      },
      "execution_count": 83,
      "outputs": []
    },
    {
      "cell_type": "code",
      "source": [
        "# Q3_graded\n",
        "def main():\n",
        "   \n",
        "    problem = read_tsp()\n",
        "   \n",
        "\n",
        "    route = som(problem, 100000)\n",
        "\n",
        "    problem = problem.reindex(route)\n",
        "\n",
        "    distance = route_distance(problem)\n",
        "\n",
        "    print('Route found of length {}'.format(distance))\n",
        "\n",
        "\n",
        "def som(problem, iterations, learning_rate=0.8):\n",
        "    \"\"\"Solve the TSP using a Self-Organizing Map.\"\"\"\n",
        "\n",
        "    # Obtain the normalized set of cities (w/ coord in [0,1])\n",
        "    cities = problem.copy()\n",
        "\n",
        "    cities[['x', 'y']] = normalize(cities[['x', 'y']])\n",
        "\n",
        "    # The population size is 8 times the number of cities\n",
        "    n = cities.shape[0] * 8\n",
        "\n",
        "    # Generate an adequate network of neurons:\n",
        "    network = generate_network(n)\n",
        "    print('Network of {} neurons created. Starting the iterations:'.format(n))\n",
        "\n",
        "    for i in range(iterations):\n",
        "        if not i % 100:\n",
        "            print('\\t> Iteration {}/{}'.format(i, iterations), end=\"\\r\")\n",
        "        # Choose a random city\n",
        "        city = cities.sample(1)[['x', 'y']].values\n",
        "        winner_idx = select_closest(network, city)\n",
        "        # Generate a filter that applies changes to the winner's gaussian\n",
        "        gaussian = get_neighborhood(winner_idx, n//10, network.shape[0])\n",
        "        # Update the network's weights (closer to the city)\n",
        "        network += gaussian[:,np.newaxis] * learning_rate * (city - network)\n",
        "        # Decay the variables\n",
        "        learning_rate = learning_rate * 0.99997\n",
        "        n = n * 0.9997\n",
        "\n",
        "        # Check for plotting interval\n",
        "        if not i % 1000:\n",
        "            plot_network(cities, network, name='diagrams/{:05d}.png'.format(i))\n",
        "\n",
        "        # Check if any parameter has completely decayed.\n",
        "        if n < 1:\n",
        "            print('Radius has completely decayed, finishing execution',\n",
        "            'at {} iterations'.format(i))\n",
        "            break\n",
        "        if learning_rate < 0.001:\n",
        "            print('Learning rate has completely decayed, finishing execution',\n",
        "            'at {} iterations'.format(i))\n",
        "            break\n",
        "    else:\n",
        "        print('Completed {} iterations.'.format(iterations))\n",
        "\n",
        "    plot_network(cities, network, name='diagrams/final.png')\n",
        "\n",
        "    route = get_route(cities, network)\n",
        "    plot_route(cities, route, 'diagrams/route.png')\n",
        "    return route\n",
        "\n",
        "if __name__ == '__main__':\n",
        "    main()"
      ],
      "metadata": {
        "colab": {
          "base_uri": "https://localhost:8080/"
        },
        "id": "l9Hw-sOacZXD",
        "outputId": "3bdaab97-37e5-4428-c8a4-9f309b12c2c4"
      },
      "execution_count": 84,
      "outputs": [
        {
          "output_type": "stream",
          "name": "stdout",
          "text": [
            "Network of 1552 neurons created. Starting the iterations:\n",
            "Radius has completely decayed, finishing execution at 24487 iterations\n",
            "Route found of length nan\n"
          ]
        }
      ]
    },
    {
      "cell_type": "markdown",
      "metadata": {
        "id": "QtuqJp2MFYL3"
      },
      "source": [
        "# <font color='red'>Submission</font>\n",
        "\n",
        "1. Sign up in [Gradescope](https://www.gradescope.com) with proper name and student ID.\n",
        "2. Fill in your full name (seperated by single spaces) and student ID in the beginning of this notebook.\n",
        "3. After you're done with this notebook, you should do the following:\n",
        "  - Clear all outputs of the notebook.\n",
        "  ![clear all outputs](https://i.ibb.co/y6FrttB/Screen-Shot-2021-03-21-at-01-51-42.png)\n",
        "  - Run all of the cells (if you skipped a question just leave the cell unchanged), and make sure all of your outputs are correct.\n",
        "  ![run all](https://i.ibb.co/cgRcBZ0/Screen-Shot-2021-03-21-at-01-54-58.png)\n",
        "  - Save your notebook.\n",
        "  \n",
        "  - If you're using Colab, download your notebook.\n",
        "  ![download ipynb](https://i.ibb.co/2KxYM6K/Screen-Shot-2021-03-21-at-02-03-50.png)\n",
        "  \n",
        "  - Put the notebook file you just downloaded and `convert.py` in the same folder run the following command:\n",
        "  ```bash\n",
        "  python convert.py\n",
        "  ```\n",
        "  This will export your code for each question into a `.py` file.\n",
        "    - **Note**: if you want to add more cells, add this to the **first** line of the cell:\n",
        "  ```python\n",
        "  # Q1_graded\n",
        "  ```\n",
        "  according to the question number.\n",
        "  - There are 2 assignments in Gradescope:\n",
        "  \n",
        "    You should upload your **codes** and your **notebook** in `HW3` section and your final report for all of the questions as a **single pdf** file in `HW3 - Report`. Autograder will automatically check for:\n",
        "    - `CI002_HW3.ipynb`\n",
        "    - `Q2.py`\n",
        "    - `Q3.py`\n",
        "    - Your name and ID in the beginning of `.ipynb` file.\n",
        "\n",
        "    It is important that you <font color='red'>**don't**</font> change the names of these files before submission.\n",
        "\n",
        "4. If you pass the autograder, you're good to go."
      ]
    }
  ],
  "metadata": {
    "colab": {
      "name": "CI002_HW3.ipynb",
      "provenance": [],
      "collapsed_sections": []
    },
    "kernelspec": {
      "display_name": "Python 3",
      "name": "python3"
    },
    "language_info": {
      "name": "python"
    }
  },
  "nbformat": 4,
  "nbformat_minor": 0
}